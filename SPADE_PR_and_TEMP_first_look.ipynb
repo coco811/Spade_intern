{
 "cells": [
  {
   "cell_type": "markdown",
   "metadata": {},
   "source": [
    "# SPADE_PR_and_TEMP_first_look.ipynb\n",
    "\n",
    "```\n",
    "H Thompson\n",
    "UQAM\n",
    "April 2020\n",
    "```\n"
   ]
  },
  {
   "cell_type": "markdown",
   "metadata": {},
   "source": [
    "## Imports"
   ]
  },
  {
   "cell_type": "code",
   "execution_count": 2,
   "metadata": {
    "pycharm": {
     "is_executing": false
    }
   },
   "outputs": [
    {
     "name": "stderr",
     "text": [
      "\n",
      "Bad key \"text.kerning_factor\" on line 4 in\n",
      "/Users/olivier1/anaconda3/envs/Spade_intern/lib/python3.7/site-packages/matplotlib/mpl-data/stylelib/_classic_test_patch.mplstyle.\n",
      "You probably need to get an updated matplotlibrc file from\n",
      "https://github.com/matplotlib/matplotlib/blob/v3.1.3/matplotlibrc.template\n",
      "or from the matplotlib source distribution\n"
     ],
     "output_type": "stream"
    }
   ],
   "source": [
    "import numpy as np \n",
    "import pandas as pd\n",
    "\n",
    "from datetime import datetime\n",
    "\n",
    "import cartopy.crs as ccrs\n",
    "import cartopy.feature as cfeature\n",
    "\n",
    "from netCDF4 import Dataset as cdf4_ds\n",
    "\n",
    "from metpy.units import units\n",
    "\n",
    "from scipy.ndimage import gaussian_filter\n",
    "\n",
    "\n",
    "import matplotlib.pyplot as plt\n",
    "from matplotlib.patches import Polygon\n",
    "from matplotlib.collections import PatchCollection\n",
    "from matplotlib.colors import Normalize\n",
    "from mpl_toolkits.axes_grid1 import make_axes_locatable\n",
    "import matplotlib.dates as mdates\n",
    "from matplotlib.dates import DateFormatter\n",
    "from matplotlib.dates import MO, TU, WE, TH, FR, SA, SU\n",
    "import matplotlib.ticker as ticker\n",
    "\n",
    "\n",
    "from cartopy.io.shapereader import Reader\n",
    "from cartopy.feature import ShapelyFeature\n",
    "\n",
    "\n",
    "%matplotlib inline\n",
    "plt.style.use('seaborn-ticks')"
   ]
  },
  {
   "cell_type": "code",
   "execution_count": 3,
   "metadata": {
    "pycharm": {
     "is_executing": false
    }
   },
   "outputs": [],
   "source": [
    "Powerline_deg = [50.82423333, -115.1972167]\n",
    "Junction_deg = [50.785568, -115.160941]\n",
    "Nipika_deg = [50.61183889, -115.8008167]\n",
    "Storm_L_deg = [51.25283667, -115.9988733]\n",
    "BGI_deg = [51.026681, -115.034411]"
   ]
  },
  {
   "cell_type": "markdown",
   "metadata": {},
   "source": [
    "## Files"
   ]
  },
  {
   "cell_type": "code",
   "execution_count": 3,
   "metadata": {
    "pycharm": {
     "is_executing": false
    }
   },
   "outputs": [],
   "source": []
  },
  {
   "cell_type": "code",
   "execution_count": 4,
   "metadata": {
    "pycharm": {
     "is_executing": false
    }
   },
   "outputs": [
    {
     "traceback": [
      "\u001b[0;31m---------------------------------------------------------------------------\u001b[0m",
      "\u001b[0;31mFileNotFoundError\u001b[0m                         Traceback (most recent call last)",
      "\u001b[0;32m<ipython-input-4-413a33113c34>\u001b[0m in \u001b[0;36m<module>\u001b[0;34m\u001b[0m\n\u001b[0;32m----> 1\u001b[0;31m \u001b[0mpr_nc_file\u001b[0m \u001b[0;34m=\u001b[0m \u001b[0mcdf4_ds\u001b[0m\u001b[0;34m(\u001b[0m\u001b[0;34m'/home/olivier/icloud drive/document/Data_stage/pr_CA_Rockies_3km_P3_ERA5-1h_ISBA_USGS.nc'\u001b[0m\u001b[0;34m)\u001b[0m \u001b[0;31m# file shape[time, lat, lon]\u001b[0m\u001b[0;34m\u001b[0m\u001b[0;34m\u001b[0m\u001b[0m\n\u001b[0m\u001b[1;32m      2\u001b[0m \u001b[0mtas_nc_file\u001b[0m \u001b[0;34m=\u001b[0m \u001b[0mcdf4_ds\u001b[0m\u001b[0;34m(\u001b[0m\u001b[0;34m'../Data/GEM_3km_data/tas_CA_Rockies_3km_P3_ERA5-1h_ISBA_USGS.nc'\u001b[0m\u001b[0;34m)\u001b[0m\u001b[0;34m\u001b[0m\u001b[0;34m\u001b[0m\u001b[0m\n\u001b[1;32m      3\u001b[0m \u001b[0;34m\u001b[0m\u001b[0m\n",
      "\u001b[0;32mnetCDF4/_netCDF4.pyx\u001b[0m in \u001b[0;36mnetCDF4._netCDF4.Dataset.__init__\u001b[0;34m()\u001b[0m\n",
      "\u001b[0;32mnetCDF4/_netCDF4.pyx\u001b[0m in \u001b[0;36mnetCDF4._netCDF4._ensure_nc_success\u001b[0;34m()\u001b[0m\n",
      "\u001b[0;31mFileNotFoundError\u001b[0m: [Errno 2] No such file or directory: b'/home/olivier/icloud drive/document/Data_stage/pr_CA_Rockies_3km_P3_ERA5-1h_ISBA_USGS.nc'"
     ],
     "ename": "FileNotFoundError",
     "evalue": "[Errno 2] No such file or directory: b'/home/olivier/icloud drive/document/Data_stage/pr_CA_Rockies_3km_P3_ERA5-1h_ISBA_USGS.nc'",
     "output_type": "error"
    }
   ],
   "source": [
    "pr_nc_file = cdf4_ds('/Users/olivier1/Documents/GitHub/Spade_intern/Data_stage/pr_CA_Rockies_3km_P3_ERA5-1h_ISBA_USGS.nc') # file shape[time, lat, lon]\n",
    "tas_nc_file = cdf4_ds('../Data/GEM_3km_data/tas_CA_Rockies_3km_P3_ERA5-1h_ISBA_USGS.nc')"
   ]
  },
  {
   "cell_type": "code",
   "execution_count": null,
   "metadata": {
    "pycharm": {
     "is_executing": false
    }
   },
   "outputs": [],
   "source": [
    "times = pr_nc_file.variables['time'][:]\n",
    "idx = pd.date_range(start='2019-04-15 01:0:00', freq='H', periods=len(times))"
   ]
  },
  {
   "cell_type": "code",
   "execution_count": null,
   "metadata": {
    "pycharm": {
     "is_executing": false
    }
   },
   "outputs": [],
   "source": [
    "pr_nc_file.variables"
   ]
  },
  {
   "cell_type": "code",
   "execution_count": null,
   "metadata": {
    "pycharm": {
     "is_executing": false
    }
   },
   "outputs": [],
   "source": [
    "df = pd.DataFrame(index=idx)"
   ]
  },
  {
   "cell_type": "code",
   "execution_count": null,
   "metadata": {
    "pycharm": {
     "is_executing": false
    }
   },
   "outputs": [],
   "source": [
    "lats = pr_nc_file.variables['lat'][:,:]\n",
    "lons = pr_nc_file.variables['lon'][:,:]"
   ]
  },
  {
   "cell_type": "code",
   "execution_count": null,
   "metadata": {
    "pycharm": {
     "is_executing": false
    }
   },
   "outputs": [],
   "source": [
    "a = (lons - Nipika_deg[1])**2 + (lats - Nipika_deg[0])**2 \n",
    "b = (lons - Junction_deg[1])**2 + (lats - Junction_deg[0])**2\n",
    "c = (lons - Powerline_deg[1])**2 + (lats - Junction_deg[0])**2\n",
    "\n",
    "ind_a = np.unravel_index(np.argmin(a, axis=None), a.shape)\n",
    "ind_b = np.unravel_index(np.argmin(b, axis=None), b.shape)\n",
    "ind_c = np.unravel_index(np.argmin(c, axis=None), c.shape)\n",
    "\n",
    "Nipika_I = ind_a[0]\n",
    "Nipika_J = ind_a[1]\n",
    "Junction_I = ind_b[0]\n",
    "Junction_J = ind_b[1]\n",
    "Powerline_I = ind_c[0]\n",
    "Powerline_J = ind_c[1]"
   ]
  },
  {
   "cell_type": "code",
   "execution_count": null,
   "metadata": {
    "pycharm": {
     "is_executing": false
    }
   },
   "outputs": [],
   "source": [
    "lats[Powerline_I,Powerline_J],lons[Powerline_I,Powerline_J] "
   ]
  },
  {
   "cell_type": "code",
   "execution_count": null,
   "metadata": {
    "pycharm": {
     "is_executing": false
    }
   },
   "outputs": [],
   "source": [
    "print(Nipika_I, Nipika_J)\n",
    "print(Powerline_I, Powerline_J)\n",
    "print(Junction_I, Junction_J)"
   ]
  },
  {
   "cell_type": "code",
   "execution_count": null,
   "metadata": {
    "pycharm": {
     "is_executing": false
    }
   },
   "outputs": [],
   "source": [
    "df['Nipika_pr'] = pr_nc_file.variables['pr'][:,Nipika_I,Nipika_J] * 3600\n",
    "df['Nipika_tas'] = tas_nc_file.variables['tas'][:,Nipika_I,Nipika_J] - 273.15"
   ]
  },
  {
   "cell_type": "code",
   "execution_count": null,
   "metadata": {
    "pycharm": {
     "is_executing": false
    }
   },
   "outputs": [],
   "source": [
    "df['Junction_pr'] = pr_nc_file.variables['pr'][:,Junction_I,Junction_J] * 3600\n",
    "df['Junction_tas'] = tas_nc_file.variables['tas'][:,Junction_I,Junction_J] - 273.15"
   ]
  },
  {
   "cell_type": "code",
   "execution_count": null,
   "metadata": {
    "pycharm": {
     "is_executing": false
    }
   },
   "outputs": [],
   "source": [
    "df['Powerline_pr'] = pr_nc_file.variables['pr'][:,Powerline_I,Powerline_J] * 3600\n",
    "df['Powerline_tas'] = tas_nc_file.variables['tas'][:,Powerline_I,Powerline_J] - 273.15"
   ]
  },
  {
   "cell_type": "code",
   "execution_count": null,
   "metadata": {
    "pycharm": {
     "is_executing": false
    }
   },
   "outputs": [],
   "source": [
    "fig, ax = plt.subplots(figsize=(10,4), dpi=300, facecolor='white')\n",
    "\n",
    "daily = df.resample('D').sum()\n",
    "\n",
    "ax.bar(daily.index, daily.Powerline_pr, color='red', width=.5, alpha=.75)\n",
    "ax.bar(daily.index, daily.Nipika_pr, color='blue', width=.5, alpha=.75)\n",
    "ax.set_xticks([])\n",
    "\n",
    "date_form = DateFormatter(\"%d %b\")\n",
    "ax.xaxis.set_major_formatter(date_form)\n",
    "ax.xaxis.set_major_locator(mdates.WeekdayLocator(interval=1))\n",
    "\n",
    "ax.set_xlabel('Date (2019)')\n",
    "ax.set_ylabel('Accumulated Daily Precipitation (mm)')\n",
    "ax.legend(['Fortress','Nipika'])"
   ]
  },
  {
   "cell_type": "code",
   "execution_count": null,
   "metadata": {
    "pycharm": {
     "is_executing": false
    }
   },
   "outputs": [],
   "source": [
    "fig, ax = plt.subplots(figsize=(10,4), dpi=300, facecolor='white')\n",
    "\n",
    "lw = 1.\n",
    "\n",
    "df.Powerline_tas.plot(ax=ax, linewidth=lw, alpha=.5, color='red')\n",
    "df.Nipika_tas.plot(ax=ax, linewidth=lw, alpha=.5, color='blue')\n",
    "\n",
    "date_form = DateFormatter(\"%d %b\")\n",
    "ax.xaxis.set_major_formatter(date_form)\n",
    "ax.xaxis.set_major_locator(mdates.WeekdayLocator(interval=1))\n",
    "\n",
    "ax.set_xlabel('Date (2019)')\n",
    "ax.set_ylabel('Precipitation (mm/day)')\n",
    "\n",
    "ax.legend(['Fortress','Nipika'])"
   ]
  },
  {
   "cell_type": "code",
   "execution_count": null,
   "metadata": {
    "pycharm": {
     "is_executing": false
    }
   },
   "outputs": [],
   "source": []
  },
  {
   "cell_type": "code",
   "execution_count": null,
   "metadata": {
    "pycharm": {
     "is_executing": false
    }
   },
   "outputs": [],
   "source": []
  },
  {
   "cell_type": "code",
   "execution_count": null,
   "metadata": {
    "pycharm": {
     "is_executing": false
    }
   },
   "outputs": [],
   "source": []
  },
  {
   "cell_type": "code",
   "execution_count": null,
   "metadata": {
    "pycharm": {
     "is_executing": false
    }
   },
   "outputs": [],
   "source": []
  },
  {
   "cell_type": "code",
   "execution_count": null,
   "metadata": {
    "pycharm": {
     "is_executing": false
    }
   },
   "outputs": [],
   "source": []
  },
  {
   "cell_type": "code",
   "execution_count": null,
   "metadata": {
    "pycharm": {
     "is_executing": false
    }
   },
   "outputs": [],
   "source": []
  },
  {
   "cell_type": "code",
   "execution_count": null,
   "metadata": {
    "pycharm": {
     "is_executing": false
    }
   },
   "outputs": [],
   "source": []
  }
 ],
 "metadata": {
  "anaconda-cloud": {},
  "kernelspec": {
   "display_name": "Python [default]",
   "language": "python",
   "name": "python3"
  },
  "language_info": {
   "codemirror_mode": {
    "name": "ipython",
    "version": 3
   },
   "file_extension": ".py",
   "mimetype": "text/x-python",
   "name": "python",
   "nbconvert_exporter": "python",
   "pygments_lexer": "ipython3",
   "version": "3.5.5"
  },
  "pycharm": {
   "stem_cell": {
    "cell_type": "raw",
    "source": [],
    "metadata": {
     "collapsed": false
    }
   }
  }
 },
 "nbformat": 4,
 "nbformat_minor": 4
}